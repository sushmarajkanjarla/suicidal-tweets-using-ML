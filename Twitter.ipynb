{
 "cells": [
  {
   "cell_type": "code",
   "execution_count": 61,
   "id": "7cb4e5ed",
   "metadata": {},
   "outputs": [],
   "source": [
    "import pandas as pd"
   ]
  },
  {
   "cell_type": "code",
   "execution_count": 70,
   "id": "724d1c5b",
   "metadata": {},
   "outputs": [],
   "source": [
    "dataset=pd.read_csv('media/dataset.csv')\n",
    "#dataset['Text']='I want to die'"
   ]
  },
  {
   "cell_type": "code",
   "execution_count": 71,
   "id": "029ea6ea",
   "metadata": {},
   "outputs": [
    {
     "data": {
      "text/plain": [
       "Suicide\n",
       "Not Suicide post           1127\n",
       "Potential Suicide post      660\n",
       "Name: count, dtype: int64"
      ]
     },
     "execution_count": 71,
     "metadata": {},
     "output_type": "execute_result"
    }
   ],
   "source": [
    "dataset['Suicide'].value_counts()"
   ]
  },
  {
   "cell_type": "code",
   "execution_count": 69,
   "id": "6bd9d1eb",
   "metadata": {},
   "outputs": [
    {
     "data": {
      "text/plain": [
       "'making some lunch'"
      ]
     },
     "execution_count": 69,
     "metadata": {},
     "output_type": "execute_result"
    }
   ],
   "source": [
    "dataset['Tweet'][0]"
   ]
  },
  {
   "cell_type": "code",
   "execution_count": 49,
   "id": "fa65a876",
   "metadata": {},
   "outputs": [
    {
     "name": "stderr",
     "output_type": "stream",
     "text": [
      "[nltk_data] Downloading package stopwords to C:\\Users\\adepu bharath\n",
      "[nltk_data]     kumar\\AppData\\Roaming\\nltk_data...\n",
      "[nltk_data]   Package stopwords is already up-to-date!\n"
     ]
    }
   ],
   "source": [
    "import re\n",
    "import nltk\n",
    "nltk.download('stopwords')\n",
    "from nltk.corpus import stopwords\n",
    "from nltk.tokenize import word_tokenize\n",
    "from nltk.stem.porter import PorterStemmer\n",
    "from sklearn.metrics import accuracy_score,classification_report,confusion_matrix\n",
    "from sklearn.svm import SVC\n",
    "from sklearn.tree import DecisionTreeClassifier\n",
    "from sklearn.naive_bayes import MultinomialNB\n",
    "from sklearn.ensemble import RandomForestClassifier\n",
    "from sklearn.preprocessing import LabelEncoder\n",
    "encoder = LabelEncoder()\n"
   ]
  },
  {
   "cell_type": "code",
   "execution_count": 50,
   "id": "3b8dad9c",
   "metadata": {},
   "outputs": [],
   "source": [
    "def preprocessor(text):\n",
    "    text = re.sub('[^a-zA-Z]', ' ', text) # remove symbl,numbers\n",
    "    text = word_tokenize(text.lower()) # convert to lower case\n",
    "    text = [PorterStemmer().stem(word) for word in text if not word in set(stopwords.words('english'))] # remove stops words\n",
    "    text = ' '.join(text)\n",
    "    return text\n",
    "dataset['Tweet'] = dataset['Tweet'].astype(str).apply(preprocessor)\n"
   ]
  },
  {
   "cell_type": "code",
   "execution_count": 28,
   "id": "ffe33ac0",
   "metadata": {},
   "outputs": [
    {
     "data": {
      "text/plain": [
       "'alexia want money'"
      ]
     },
     "execution_count": 28,
     "metadata": {},
     "output_type": "execute_result"
    }
   ],
   "source": [
    "dataset['Tweet'][1]"
   ]
  },
  {
   "cell_type": "code",
   "execution_count": 51,
   "id": "5e4b8db1",
   "metadata": {},
   "outputs": [
    {
     "data": {
      "text/plain": [
       "'make lunch'"
      ]
     },
     "execution_count": 51,
     "metadata": {},
     "output_type": "execute_result"
    }
   ],
   "source": [
    "dataset['Tweet'][0]"
   ]
  },
  {
   "cell_type": "code",
   "execution_count": 52,
   "id": "b404acfc",
   "metadata": {},
   "outputs": [
    {
     "data": {
      "text/html": [
       "<div>\n",
       "<style scoped>\n",
       "    .dataframe tbody tr th:only-of-type {\n",
       "        vertical-align: middle;\n",
       "    }\n",
       "\n",
       "    .dataframe tbody tr th {\n",
       "        vertical-align: top;\n",
       "    }\n",
       "\n",
       "    .dataframe thead th {\n",
       "        text-align: right;\n",
       "    }\n",
       "</style>\n",
       "<table border=\"1\" class=\"dataframe\">\n",
       "  <thead>\n",
       "    <tr style=\"text-align: right;\">\n",
       "      <th></th>\n",
       "      <th>Tweet</th>\n",
       "      <th>Suicide</th>\n",
       "    </tr>\n",
       "  </thead>\n",
       "  <tbody>\n",
       "    <tr>\n",
       "      <th>0</th>\n",
       "      <td>make lunch</td>\n",
       "      <td>0</td>\n",
       "    </tr>\n",
       "    <tr>\n",
       "      <th>1</th>\n",
       "      <td>alexia want money</td>\n",
       "      <td>0</td>\n",
       "    </tr>\n",
       "    <tr>\n",
       "      <th>2</th>\n",
       "      <td>dizzyhrvi crap took forev put togeth go go sle...</td>\n",
       "      <td>1</td>\n",
       "    </tr>\n",
       "    <tr>\n",
       "      <th>3</th>\n",
       "      <td>jnaylor kiwitweet hey jer sinc start twitter</td>\n",
       "      <td>0</td>\n",
       "    </tr>\n",
       "    <tr>\n",
       "      <th>4</th>\n",
       "      <td>tri quot delici librari quot mix result bar co...</td>\n",
       "      <td>0</td>\n",
       "    </tr>\n",
       "  </tbody>\n",
       "</table>\n",
       "</div>"
      ],
      "text/plain": [
       "                                               Tweet  Suicide\n",
       "0                                         make lunch        0\n",
       "1                                  alexia want money        0\n",
       "2  dizzyhrvi crap took forev put togeth go go sle...        1\n",
       "3       jnaylor kiwitweet hey jer sinc start twitter        0\n",
       "4  tri quot delici librari quot mix result bar co...        0"
      ]
     },
     "execution_count": 52,
     "metadata": {},
     "output_type": "execute_result"
    }
   ],
   "source": [
    "encoder = LabelEncoder()\n",
    "\n",
    "dataset['Suicide'] = encoder.fit_transform(dataset['Suicide'])\n",
    "dataset.head()"
   ]
  },
  {
   "cell_type": "code",
   "execution_count": 53,
   "id": "060d5262",
   "metadata": {},
   "outputs": [
    {
     "data": {
      "text/plain": [
       "Suicide\n",
       "0    1127\n",
       "1     660\n",
       "Name: count, dtype: int64"
      ]
     },
     "execution_count": 53,
     "metadata": {},
     "output_type": "execute_result"
    }
   ],
   "source": [
    "dataset['Suicide'].value_counts()"
   ]
  },
  {
   "cell_type": "code",
   "execution_count": 56,
   "id": "4894754c",
   "metadata": {},
   "outputs": [
    {
     "name": "stdout",
     "output_type": "stream",
     "text": [
      "No such text\n"
     ]
    }
   ],
   "source": [
    "for i in dataset['Tweet']:\n",
    "    if 'I want to die' in i:\n",
    "        print('yes')\n",
    "    else:\n",
    "        print('No such text')\n",
    "        break"
   ]
  },
  {
   "cell_type": "code",
   "execution_count": 58,
   "id": "ad92ea5e",
   "metadata": {},
   "outputs": [],
   "source": [
    "ddataset['Text']='I want to die,but Can not give up'"
   ]
  },
  {
   "cell_type": "code",
   "execution_count": 66,
   "id": "f4d3dab6",
   "metadata": {},
   "outputs": [
    {
     "data": {
      "text/html": [
       "<div>\n",
       "<style scoped>\n",
       "    .dataframe tbody tr th:only-of-type {\n",
       "        vertical-align: middle;\n",
       "    }\n",
       "\n",
       "    .dataframe tbody tr th {\n",
       "        vertical-align: top;\n",
       "    }\n",
       "\n",
       "    .dataframe thead th {\n",
       "        text-align: right;\n",
       "    }\n",
       "</style>\n",
       "<table border=\"1\" class=\"dataframe\">\n",
       "  <thead>\n",
       "    <tr style=\"text-align: right;\">\n",
       "      <th></th>\n",
       "      <th>Tweet</th>\n",
       "      <th>Suicide</th>\n",
       "    </tr>\n",
       "  </thead>\n",
       "  <tbody>\n",
       "    <tr>\n",
       "      <th>0</th>\n",
       "      <td>making some lunch</td>\n",
       "      <td>Not Suicide post</td>\n",
       "    </tr>\n",
       "    <tr>\n",
       "      <th>1</th>\n",
       "      <td>@Alexia You want his money.</td>\n",
       "      <td>Not Suicide post</td>\n",
       "    </tr>\n",
       "    <tr>\n",
       "      <th>2</th>\n",
       "      <td>@dizzyhrvy that crap took me forever to put to...</td>\n",
       "      <td>Potential Suicide post</td>\n",
       "    </tr>\n",
       "    <tr>\n",
       "      <th>3</th>\n",
       "      <td>@jnaylor #kiwitweets Hey Jer! Since when did y...</td>\n",
       "      <td>Not Suicide post</td>\n",
       "    </tr>\n",
       "    <tr>\n",
       "      <th>4</th>\n",
       "      <td>Trying out &amp;quot;Delicious Library 2&amp;quot; wit...</td>\n",
       "      <td>Not Suicide post</td>\n",
       "    </tr>\n",
       "    <tr>\n",
       "      <th>...</th>\n",
       "      <td>...</td>\n",
       "      <td>...</td>\n",
       "    </tr>\n",
       "    <tr>\n",
       "      <th>1783</th>\n",
       "      <td>Starting my day out with a positive attitude! ...</td>\n",
       "      <td>Not Suicide post</td>\n",
       "    </tr>\n",
       "    <tr>\n",
       "      <th>1784</th>\n",
       "      <td>@belledame222 Hey, it's 5 am...give a girl som...</td>\n",
       "      <td>Not Suicide post</td>\n",
       "    </tr>\n",
       "    <tr>\n",
       "      <th>1785</th>\n",
       "      <td>2 drunken besties stumble into my room and we ...</td>\n",
       "      <td>Not Suicide post</td>\n",
       "    </tr>\n",
       "    <tr>\n",
       "      <th>1786</th>\n",
       "      <td>@dancingbonita &amp;quot;I friggin love you!!!&amp;quo...</td>\n",
       "      <td>Not Suicide post</td>\n",
       "    </tr>\n",
       "    <tr>\n",
       "      <th>1787</th>\n",
       "      <td>I want to die,but Can not give up</td>\n",
       "      <td>Not Suicide post</td>\n",
       "    </tr>\n",
       "  </tbody>\n",
       "</table>\n",
       "<p>1788 rows × 2 columns</p>\n",
       "</div>"
      ],
      "text/plain": [
       "                                                  Tweet  \\\n",
       "0                                     making some lunch   \n",
       "1                           @Alexia You want his money.   \n",
       "2     @dizzyhrvy that crap took me forever to put to...   \n",
       "3     @jnaylor #kiwitweets Hey Jer! Since when did y...   \n",
       "4     Trying out &quot;Delicious Library 2&quot; wit...   \n",
       "...                                                 ...   \n",
       "1783  Starting my day out with a positive attitude! ...   \n",
       "1784  @belledame222 Hey, it's 5 am...give a girl som...   \n",
       "1785  2 drunken besties stumble into my room and we ...   \n",
       "1786  @dancingbonita &quot;I friggin love you!!!&quo...   \n",
       "1787                  I want to die,but Can not give up   \n",
       "\n",
       "                      Suicide  \n",
       "0            Not Suicide post  \n",
       "1            Not Suicide post  \n",
       "2     Potential Suicide post   \n",
       "3            Not Suicide post  \n",
       "4            Not Suicide post  \n",
       "...                       ...  \n",
       "1783         Not Suicide post  \n",
       "1784         Not Suicide post  \n",
       "1785         Not Suicide post  \n",
       "1786         Not Suicide post  \n",
       "1787         Not Suicide post  \n",
       "\n",
       "[1788 rows x 2 columns]"
      ]
     },
     "execution_count": 66,
     "metadata": {},
     "output_type": "execute_result"
    }
   ],
   "source": [
    "dataset1=pd.read_csv('media/dataset1.csv')\n",
    "dataset1"
   ]
  },
  {
   "cell_type": "code",
   "execution_count": null,
   "id": "a3298d16",
   "metadata": {},
   "outputs": [],
   "source": []
  },
  {
   "cell_type": "code",
   "execution_count": null,
   "id": "eab19bd9",
   "metadata": {},
   "outputs": [],
   "source": []
  }
 ],
 "metadata": {
  "kernelspec": {
   "display_name": "Python 3 (ipykernel)",
   "language": "python",
   "name": "python3"
  },
  "language_info": {
   "codemirror_mode": {
    "name": "ipython",
    "version": 3
   },
   "file_extension": ".py",
   "mimetype": "text/x-python",
   "name": "python",
   "nbconvert_exporter": "python",
   "pygments_lexer": "ipython3",
   "version": "3.11.5"
  }
 },
 "nbformat": 4,
 "nbformat_minor": 5
}
